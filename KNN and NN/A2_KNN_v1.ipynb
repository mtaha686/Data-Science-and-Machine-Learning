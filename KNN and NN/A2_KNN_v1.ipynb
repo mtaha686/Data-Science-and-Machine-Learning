{
 "cells": [
  {
   "cell_type": "code",
   "execution_count": 1,
   "metadata": {
    "id": "-U1KAmjgSGqX"
   },
   "outputs": [],
   "source": [
    "import numpy as np\n",
    "import pandas as pd\n",
    "import math\n",
    "from sklearn.metrics import accuracy_score\n",
    "from sklearn.preprocessing import MinMaxScaler\n",
    "from sklearn.model_selection import train_test_split\n"
   ]
  },
  {
   "cell_type": "code",
   "execution_count": 2,
   "metadata": {
    "id": "9QRdIjNfSSm4"
   },
   "outputs": [],
   "source": [
    "def manhattan(x, x_prime):\n",
    "  res = 0\n",
    "  for i in range(len(x)):\n",
    "    res += abs(x_prime[i]-x[i])\n",
    "  return res"
   ]
  },
  {
   "cell_type": "code",
   "execution_count": 3,
   "metadata": {
    "id": "SHPz21exNtvB"
   },
   "outputs": [],
   "source": [
    "def euclidean(x, x_prime):\n",
    "  res = 0\n",
    "  for i in range(len(x)):\n",
    "    res += (x_prime[i]-x[i])**2\n",
    "  return math.sqrt(res)"
   ]
  },
  {
   "cell_type": "code",
   "execution_count": 4,
   "metadata": {
    "id": "HMUxcx3qOXfz"
   },
   "outputs": [],
   "source": [
    "def L_inf(x, x_prime):\n",
    "  res = []\n",
    "  for i in range(len(x)):\n",
    "    res.append(abs(x_prime[i]-x[i]))\n",
    "  return max(res)"
   ]
  },
  {
   "cell_type": "code",
   "execution_count": 15,
   "metadata": {
    "id": "mWi65hFDkIG2"
   },
   "outputs": [],
   "source": [
    "data = pd.read_csv(\"BreastCancer.csv\")\n",
    "\n",
    "y=data['diagnosis'].values\n",
    "\n",
    "data = data.drop(\"diagnosis\", axis=1)\n",
    "x = data.values\n",
    "\n",
    "d = x.shape[1]"
   ]
  },
  {
   "cell_type": "code",
   "execution_count": 8,
   "metadata": {
    "id": "5Vm7Wwp_TFro"
   },
   "outputs": [],
   "source": [
    "def min_n_nums(nums, n = 1):\n",
    "  return sorted(nums)[:n]"
   ]
  },
  {
   "cell_type": "code",
   "execution_count": 16,
   "metadata": {
    "id": "PoH3BAs58qsK"
   },
   "outputs": [],
   "source": [
    "def predict(x1, x2, y, sim_measure, knn):\n",
    "  d = {}\n",
    "  results = []\n",
    "  for i in range(len(x1)):\n",
    "    for j in range(len(x2)):\n",
    "      if i != j:\n",
    "          d[sim_measure(x1[i],x2[j])] = y[j]\n",
    "    keys = d.keys()\n",
    "    min_keys = min_n_nums(keys,knn)\n",
    "    labels = []\n",
    "    for m in min_keys:\n",
    "      labels.append(d[m])\n",
    "    label = max(labels, key=labels.count)\n",
    "    results.append(label)\n",
    "  return results"
   ]
  },
  {
   "cell_type": "code",
   "execution_count": 17,
   "metadata": {
    "id": "MTon6XvapgxC"
   },
   "outputs": [],
   "source": [
    "X_train, X_test, y_train, y_test = train_test_split(x, y, test_size=0.2, random_state=42)"
   ]
  },
  {
   "cell_type": "code",
   "execution_count": 18,
   "metadata": {
    "colab": {
     "base_uri": "https://localhost:8080/"
    },
    "id": "lpPthdCd9qcg",
    "outputId": "217d32cc-9b8e-4320-bde7-2e908cd5b0fe"
   },
   "outputs": [],
   "source": [
    "K = 3\n",
    "L1_results = predict(X_test, X_train, y_train, manhattan, K)\n",
    "L2_results = predict(X_test, X_train, y_train, euclidean, K)\n",
    "L_inf_results = predict(X_test, X_train, y_train, L_inf, K)"
   ]
  },
  {
   "cell_type": "code",
   "execution_count": 19,
   "metadata": {},
   "outputs": [
    {
     "name": "stdout",
     "output_type": "stream",
     "text": [
      "Accuracy of L1-Norm (Manhattan Distance) using K = 3:  0.6228070175438597\n",
      "Accuracy of L2-Norm (Euclidean Distance) using K = 3:  0.6228070175438597\n",
      "Accuracy of L-Infinity-Norm using K = 3:  0.6228070175438597\n"
     ]
    }
   ],
   "source": [
    "print(f\"Accuracy of L1-Norm (Manhattan Distance) using K = {K}: \", accuracy_score(L1_results, y_test))\n",
    "print(f\"Accuracy of L2-Norm (Euclidean Distance) using K = {K}: \", accuracy_score(L2_results, y_test))\n",
    "print(f\"Accuracy of L-Infinity-Norm using K = {K}: \", accuracy_score(L_inf_results, y_test))"
   ]
  },
  {
   "cell_type": "code",
   "execution_count": 20,
   "metadata": {},
   "outputs": [],
   "source": [
    "K = 5\n",
    "L1_results = predict(X_test, X_train, y_train, manhattan, K)\n",
    "L2_results = predict(X_test, X_train, y_train, euclidean, K)\n",
    "L_inf_results = predict(X_test, X_train, y_train, L_inf, K)"
   ]
  },
  {
   "cell_type": "code",
   "execution_count": 14,
   "metadata": {},
   "outputs": [
    {
     "name": "stdout",
     "output_type": "stream",
     "text": [
      "Accuracy of L1-Norm (Manhattan Distance) using K = 5:  0.6228070175438597\n",
      "Accuracy of L2-Norm (Euclidean Distance) using K = 5:  0.6228070175438597\n",
      "Accuracy of L-Infinity-Norm using K = 5:  0.6228070175438597\n"
     ]
    }
   ],
   "source": [
    "print(f\"Accuracy of L1-Norm (Manhattan Distance) using K = {K}: \", accuracy_score(L1_results, y_test))\n",
    "print(f\"Accuracy of L2-Norm (Euclidean Distance) using K = {K}: \", accuracy_score(L2_results, y_test))\n",
    "print(f\"Accuracy of L-Infinity-Norm using K = {K}: \", accuracy_score(L_inf_results, y_test))"
   ]
  },
  {
   "cell_type": "code",
   "execution_count": null,
   "metadata": {},
   "outputs": [],
   "source": []
  }
 ],
 "metadata": {
  "colab": {
   "collapsed_sections": [],
   "provenance": []
  },
  "kernelspec": {
   "display_name": "Python 3 (ipykernel)",
   "language": "python",
   "name": "python3"
  },
  "language_info": {
   "codemirror_mode": {
    "name": "ipython",
    "version": 3
   },
   "file_extension": ".py",
   "mimetype": "text/x-python",
   "name": "python",
   "nbconvert_exporter": "python",
   "pygments_lexer": "ipython3",
   "version": "3.11.4"
  }
 },
 "nbformat": 4,
 "nbformat_minor": 1
}
