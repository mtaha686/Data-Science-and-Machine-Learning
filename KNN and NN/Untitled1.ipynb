{
 "cells": [
  {
   "cell_type": "code",
   "execution_count": 1,
   "id": "0d0318cc",
   "metadata": {},
   "outputs": [],
   "source": [
    "# !pip install datapackage"
   ]
  },
  {
   "cell_type": "code",
   "execution_count": 3,
   "id": "aa10e770",
   "metadata": {},
   "outputs": [],
   "source": [
    "# import datapackage\n",
    "# import pandas as pd\n",
    "\n",
    "# data_url = 'https://datahub.io/machine-learning/breast-cancer/datapackage.json'\n",
    "\n",
    "# # to load Data Package into storage\n",
    "# package = datapackage.Package(data_url)\n",
    "\n",
    "# # to load only tabular data\n",
    "# resources = package.resources\n",
    "# for resource in resources:\n",
    "#     if resource.tabular:\n",
    "#         data = pd.read_csv(resource.descriptor['path'])\n",
    "#         print (data)"
   ]
  },
  {
   "cell_type": "code",
   "execution_count": null,
   "id": "20177353",
   "metadata": {},
   "outputs": [],
   "source": [
    "# import numpy as np\n",
    "\n",
    "# # Sigmoid activation function\n",
    "# def sigmoid(x):\n",
    "#     return 1 / (1 + np.exp(-x))\n",
    "\n",
    "# # Derivative of the sigmoid function\n",
    "# def sigmoid_derivative(x):\n",
    "#     return x * (1 - x)\n",
    "\n",
    "# # Neural Network class\n",
    "# class NeuralNetwork:\n",
    "#     def __init__(self, input_size, hidden_size, output_size):\n",
    "#         # Initialize weights with random values\n",
    "#         self.weights_input_hidden = np.random.rand(input_size, hidden_size)\n",
    "#         self.weights_hidden_output = np.random.rand(hidden_size, output_size)\n",
    "\n",
    "#     def forward(self, X):\n",
    "#         # Forward propagation\n",
    "#         self.hidden_layer_input = np.dot(X, self.weights_input_hidden)\n",
    "#         self.hidden_layer_output = sigmoid(self.hidden_layer_input)\n",
    "\n",
    "#         self.output_layer_input = np.dot(self.hidden_layer_output, self.weights_hidden_output)\n",
    "#         self.predicted_output = sigmoid(self.output_layer_input)\n",
    "\n",
    "#         return self.predicted_output\n",
    "\n",
    "#     def backward(self, X, y, learning_rate):\n",
    "#         # Backward propagation\n",
    "#         error = y - self.predicted_output\n",
    "\n",
    "#         # Output layer\n",
    "#         output_delta = error * sigmoid_derivative(self.predicted_output)\n",
    "#         self.weights_hidden_output += learning_rate * np.dot(self.hidden_layer_output.T, output_delta)\n",
    "\n",
    "#         # Hidden layer\n",
    "#         hidden_error = np.dot(output_delta, self.weights_hidden_output.T)\n",
    "#         hidden_delta = hidden_error * sigmoid_derivative(self.hidden_layer_output)\n",
    "#         self.weights_input_hidden += learning_rate * np.dot(X.T, hidden_delta)\n",
    "\n",
    "#     def train(self, X, y, epochs, learning_rate):\n",
    "#         for epoch in range(epochs):\n",
    "#             # Forward and backward pass\n",
    "#             self.forward(X)\n",
    "#             self.backward(X, y, learning_rate)\n",
    "\n",
    "# # Example usage\n",
    "# # Assuming X_train and y_train are your input features and labels\n",
    "# input_size = X_train.shape[1]\n",
    "# hidden_size = 2\n",
    "# output_size = 1\n",
    "\n",
    "# # Initialize the neural network\n",
    "# neural_network = NeuralNetwork(input_size, hidden_size, output_size)\n",
    "\n",
    "# # Train the neural network\n",
    "# epochs = 10000\n",
    "# learning_rate = 0.1\n",
    "# neural_network.train(X_train, y_train, epochs, learning_rate)\n",
    "\n",
    "# # Make predictions on a test set (X_test)\n",
    "# predictions = neural_network.forward(X_test)\n"
   ]
  }
 ],
 "metadata": {
  "kernelspec": {
   "display_name": "Python 3 (ipykernel)",
   "language": "python",
   "name": "python3"
  },
  "language_info": {
   "codemirror_mode": {
    "name": "ipython",
    "version": 3
   },
   "file_extension": ".py",
   "mimetype": "text/x-python",
   "name": "python",
   "nbconvert_exporter": "python",
   "pygments_lexer": "ipython3",
   "version": "3.11.4"
  }
 },
 "nbformat": 4,
 "nbformat_minor": 5
}
