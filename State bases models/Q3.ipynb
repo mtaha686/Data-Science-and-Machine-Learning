{
 "cells": [
  {
   "cell_type": "code",
   "execution_count": 3,
   "id": "f72e5d88",
   "metadata": {},
   "outputs": [
    {
     "name": "stdout",
     "output_type": "stream",
     "text": [
      "Predicted Cost for Test Instance: -2.4687232\n"
     ]
    }
   ],
   "source": [
    "import numpy as np\n",
    "import csv\n",
    "\n",
    "class StructuredPerceptron:\n",
    "    def __init__(self, num_features):\n",
    "        self.weights = np.zeros(num_features)\n",
    "\n",
    "    def predict(self, features):\n",
    "        return np.dot(self.weights, features)\n",
    "\n",
    "    def update_weights(self, true_features, predicted_features, learning_rate):\n",
    "        self.weights += learning_rate * (true_features - predicted_features)\n",
    "\n",
    "def generate_data(num_examples, num_blocks):\n",
    "    data = []\n",
    "    for _ in range(num_examples):\n",
    "        start_block = np.random.randint(1, num_blocks + 1)\n",
    "        end_block = np.random.randint(1, num_blocks + 1)\n",
    "        while start_block == end_block:\n",
    "            end_block = np.random.randint(1, num_blocks + 1)\n",
    "        \n",
    "        features = np.array([start_block, end_block])\n",
    "        \n",
    "        true_cost = -np.abs(start_block - end_block)\n",
    "        \n",
    "        data.append((features, true_cost))\n",
    "    \n",
    "    return data\n",
    "\n",
    "def save_to_csv(data, filename):\n",
    "    with open(filename, 'w', newline='') as csvfile:\n",
    "        csvwriter = csv.writer(csvfile)\n",
    "        csvwriter.writerow(['Start_Block', 'End_Block', 'True_Cost'])\n",
    "        for features, true_cost in data:\n",
    "            csvwriter.writerow([features[0], features[1], true_cost])\n",
    "\n",
    "def load_from_csv(filename):\n",
    "    data = []\n",
    "    with open(filename, 'r') as csvfile:\n",
    "        csvreader = csv.reader(csvfile)\n",
    "        header = next(csvreader)\n",
    "        for row in csvreader:\n",
    "            features = np.array([int(row[0]), int(row[1])])\n",
    "            true_cost = int(row[2])\n",
    "            data.append((features, true_cost))\n",
    "    return data\n",
    "\n",
    "def train_perceptron(perceptron, training_data, num_epochs, learning_rate):\n",
    "    for epoch in range(num_epochs):\n",
    "        for features, true_cost in training_data:\n",
    "            predicted_cost = perceptron.predict(features)\n",
    "            perceptron.update_weights(true_cost, predicted_cost, learning_rate)\n",
    "\n",
    "def main():\n",
    "    np.random.seed(42)\n",
    "    num_examples = 20\n",
    "    num_blocks = 10\n",
    "    num_features = 2\n",
    "    learning_rate = 0.1\n",
    "    num_epochs = 10\n",
    "    filename = 'transportation_data.csv'\n",
    "\n",
    "    training_data = generate_data(num_examples, num_blocks)\n",
    "    save_to_csv(training_data, filename)\n",
    "\n",
    "    loaded_data = load_from_csv(filename)\n",
    "\n",
    "    perceptron = StructuredPerceptron(num_features)\n",
    "\n",
    "    train_perceptron(perceptron, loaded_data, num_epochs, learning_rate)\n",
    "\n",
    "    test_instance = np.array([3, 7]) \n",
    "    predicted_cost = perceptron.predict(test_instance)\n",
    "    print(f\"Predicted Cost for Test Instance: {predicted_cost}\")\n",
    "\n",
    "if __name__ == \"__main__\":\n",
    "    main()\n"
   ]
  }
 ],
 "metadata": {
  "kernelspec": {
   "display_name": "Python 3 (ipykernel)",
   "language": "python",
   "name": "python3"
  },
  "language_info": {
   "codemirror_mode": {
    "name": "ipython",
    "version": 3
   },
   "file_extension": ".py",
   "mimetype": "text/x-python",
   "name": "python",
   "nbconvert_exporter": "python",
   "pygments_lexer": "ipython3",
   "version": "3.11.4"
  }
 },
 "nbformat": 4,
 "nbformat_minor": 5
}
