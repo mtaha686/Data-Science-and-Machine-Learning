{
 "cells": [
  {
   "cell_type": "code",
   "execution_count": 1,
   "id": "49d6d6ed",
   "metadata": {},
   "outputs": [],
   "source": [
    "import math ,copy\n",
    "import pandas as pd\n",
    "import numpy as np\n",
    "import matplotlib.pyplot as plt\n",
    "from sklearn.model_selection import train_test_split"
   ]
  },
  {
   "cell_type": "code",
   "execution_count": 2,
   "id": "4ad2b4b3",
   "metadata": {},
   "outputs": [],
   "source": [
    "data = pd.read_csv(\"ChatsData.csv\")"
   ]
  },
  {
   "cell_type": "code",
   "execution_count": 3,
   "id": "25a988c2",
   "metadata": {},
   "outputs": [
    {
     "data": {
      "text/html": [
       "<div>\n",
       "<style scoped>\n",
       "    .dataframe tbody tr th:only-of-type {\n",
       "        vertical-align: middle;\n",
       "    }\n",
       "\n",
       "    .dataframe tbody tr th {\n",
       "        vertical-align: top;\n",
       "    }\n",
       "\n",
       "    .dataframe thead th {\n",
       "        text-align: right;\n",
       "    }\n",
       "</style>\n",
       "<table border=\"1\" class=\"dataframe\">\n",
       "  <thead>\n",
       "    <tr style=\"text-align: right;\">\n",
       "      <th></th>\n",
       "      <th>Message 1</th>\n",
       "      <th>Message 2</th>\n",
       "      <th>Response</th>\n",
       "      <th>M1 Send Time</th>\n",
       "      <th>M2 Receive Time</th>\n",
       "      <th>Number of Words (M1)</th>\n",
       "      <th>Number of Punctuation (M1)</th>\n",
       "      <th>Presence of Emojis (M1)</th>\n",
       "      <th>Presence of Images (M1)</th>\n",
       "      <th>Presence of Videos (M1)</th>\n",
       "      <th>Presence of Links (M1)</th>\n",
       "      <th>Number of Words (M2)</th>\n",
       "      <th>Number of Punctuation (M2)</th>\n",
       "      <th>Presence of Emojis (M2)</th>\n",
       "      <th>Presence of Images (M2)</th>\n",
       "      <th>Presence of Videos (M2)</th>\n",
       "      <th>Presence of Links (M2)</th>\n",
       "    </tr>\n",
       "  </thead>\n",
       "  <tbody>\n",
       "    <tr>\n",
       "      <th>0</th>\n",
       "      <td>I'm going to learn how to bake a chocolate cak...</td>\n",
       "      <td>Baking a chocolate cake is delicious! What's y...</td>\n",
       "      <td>No</td>\n",
       "      <td>11/8/2023 21:45</td>\n",
       "      <td>11/8/2023 21:50</td>\n",
       "      <td>8</td>\n",
       "      <td>3</td>\n",
       "      <td>Yes</td>\n",
       "      <td>No</td>\n",
       "      <td>No</td>\n",
       "      <td>No</td>\n",
       "      <td>9</td>\n",
       "      <td>3</td>\n",
       "      <td>Yes</td>\n",
       "      <td>No</td>\n",
       "      <td>No</td>\n",
       "      <td>No</td>\n",
       "    </tr>\n",
       "    <tr>\n",
       "      <th>1</th>\n",
       "      <td>I'm planning a weekend getaway by the lake. 🌅</td>\n",
       "      <td>Weekend getaways by the lake are so relaxing! ...</td>\n",
       "      <td>No</td>\n",
       "      <td>11/8/2023 21:50</td>\n",
       "      <td>11/8/2023 21:55</td>\n",
       "      <td>8</td>\n",
       "      <td>3</td>\n",
       "      <td>Yes</td>\n",
       "      <td>No</td>\n",
       "      <td>No</td>\n",
       "      <td>No</td>\n",
       "      <td>8</td>\n",
       "      <td>3</td>\n",
       "      <td>Yes</td>\n",
       "      <td>No</td>\n",
       "      <td>No</td>\n",
       "      <td>No</td>\n",
       "    </tr>\n",
       "    <tr>\n",
       "      <th>2</th>\n",
       "      <td>I'm going to a rock music concert. 🎸</td>\n",
       "      <td>Rock concerts are energetic! Which rock band a...</td>\n",
       "      <td>No</td>\n",
       "      <td>11/8/2023 21:55</td>\n",
       "      <td>11/8/2023 22:00</td>\n",
       "      <td>6</td>\n",
       "      <td>3</td>\n",
       "      <td>Yes</td>\n",
       "      <td>No</td>\n",
       "      <td>No</td>\n",
       "      <td>No</td>\n",
       "      <td>9</td>\n",
       "      <td>3</td>\n",
       "      <td>Yes</td>\n",
       "      <td>No</td>\n",
       "      <td>No</td>\n",
       "      <td>No</td>\n",
       "    </tr>\n",
       "    <tr>\n",
       "      <th>3</th>\n",
       "      <td>I'm planning a day at the beach with my family...</td>\n",
       "      <td>Beach days with family are fun! What beach act...</td>\n",
       "      <td>No</td>\n",
       "      <td>11/8/2023 22:00</td>\n",
       "      <td>11/8/2023 22:05</td>\n",
       "      <td>8</td>\n",
       "      <td>3</td>\n",
       "      <td>Yes</td>\n",
       "      <td>No</td>\n",
       "      <td>No</td>\n",
       "      <td>No</td>\n",
       "      <td>8</td>\n",
       "      <td>3</td>\n",
       "      <td>Yes</td>\n",
       "      <td>No</td>\n",
       "      <td>No</td>\n",
       "      <td>No</td>\n",
       "    </tr>\n",
       "    <tr>\n",
       "      <th>4</th>\n",
       "      <td>I'm going to start a new workout routine. 💪</td>\n",
       "      <td>Starting a new workout routine is great for yo...</td>\n",
       "      <td>No</td>\n",
       "      <td>11/8/2023 22:05</td>\n",
       "      <td>11/8/2023 22:10</td>\n",
       "      <td>7</td>\n",
       "      <td>3</td>\n",
       "      <td>Yes</td>\n",
       "      <td>No</td>\n",
       "      <td>No</td>\n",
       "      <td>No</td>\n",
       "      <td>9</td>\n",
       "      <td>3</td>\n",
       "      <td>Yes</td>\n",
       "      <td>No</td>\n",
       "      <td>No</td>\n",
       "      <td>No</td>\n",
       "    </tr>\n",
       "  </tbody>\n",
       "</table>\n",
       "</div>"
      ],
      "text/plain": [
       "                                           Message 1  \\\n",
       "0  I'm going to learn how to bake a chocolate cak...   \n",
       "1      I'm planning a weekend getaway by the lake. 🌅   \n",
       "2               I'm going to a rock music concert. 🎸   \n",
       "3  I'm planning a day at the beach with my family...   \n",
       "4        I'm going to start a new workout routine. 💪   \n",
       "\n",
       "                                           Message 2 Response  \\\n",
       "0  Baking a chocolate cake is delicious! What's y...       No   \n",
       "1  Weekend getaways by the lake are so relaxing! ...       No   \n",
       "2  Rock concerts are energetic! Which rock band a...       No   \n",
       "3  Beach days with family are fun! What beach act...       No   \n",
       "4  Starting a new workout routine is great for yo...       No   \n",
       "\n",
       "      M1 Send Time  M2 Receive Time  Number of Words (M1)  \\\n",
       "0  11/8/2023 21:45  11/8/2023 21:50                     8   \n",
       "1  11/8/2023 21:50  11/8/2023 21:55                     8   \n",
       "2  11/8/2023 21:55  11/8/2023 22:00                     6   \n",
       "3  11/8/2023 22:00  11/8/2023 22:05                     8   \n",
       "4  11/8/2023 22:05  11/8/2023 22:10                     7   \n",
       "\n",
       "   Number of Punctuation (M1) Presence of Emojis (M1) Presence of Images (M1)  \\\n",
       "0                           3                     Yes                      No   \n",
       "1                           3                     Yes                      No   \n",
       "2                           3                     Yes                      No   \n",
       "3                           3                     Yes                      No   \n",
       "4                           3                     Yes                      No   \n",
       "\n",
       "  Presence of Videos (M1) Presence of Links (M1)  Number of Words (M2)  \\\n",
       "0                      No                     No                     9   \n",
       "1                      No                     No                     8   \n",
       "2                      No                     No                     9   \n",
       "3                      No                     No                     8   \n",
       "4                      No                     No                     9   \n",
       "\n",
       "   Number of Punctuation (M2) Presence of Emojis (M2) Presence of Images (M2)  \\\n",
       "0                           3                     Yes                      No   \n",
       "1                           3                     Yes                      No   \n",
       "2                           3                     Yes                      No   \n",
       "3                           3                     Yes                      No   \n",
       "4                           3                     Yes                      No   \n",
       "\n",
       "  Presence of Videos (M2) Presence of Links (M2)  \n",
       "0                      No                     No  \n",
       "1                      No                     No  \n",
       "2                      No                     No  \n",
       "3                      No                     No  \n",
       "4                      No                     No  "
      ]
     },
     "execution_count": 3,
     "metadata": {},
     "output_type": "execute_result"
    }
   ],
   "source": [
    "data.head()"
   ]
  },
  {
   "cell_type": "code",
   "execution_count": 4,
   "id": "8c5664ab",
   "metadata": {},
   "outputs": [],
   "source": [
    "df = data.copy()"
   ]
  },
  {
   "cell_type": "code",
   "execution_count": 5,
   "id": "6f37c2e3",
   "metadata": {},
   "outputs": [
    {
     "data": {
      "text/plain": [
       "Index(['Message 1', 'Message 2', 'Response', 'M1 Send Time', 'M2 Receive Time',\n",
       "       'Number of Words (M1)', 'Number of Punctuation (M1)',\n",
       "       'Presence of Emojis (M1)', 'Presence of Images (M1)',\n",
       "       'Presence of Videos (M1)', 'Presence of Links (M1)',\n",
       "       'Number of Words (M2)', 'Number of Punctuation (M2)',\n",
       "       'Presence of Emojis (M2)', 'Presence of Images (M2)',\n",
       "       'Presence of Videos (M2)', 'Presence of Links (M2)'],\n",
       "      dtype='object')"
      ]
     },
     "execution_count": 5,
     "metadata": {},
     "output_type": "execute_result"
    }
   ],
   "source": [
    "data.columns"
   ]
  },
  {
   "cell_type": "code",
   "execution_count": 6,
   "id": "d4447ad9",
   "metadata": {},
   "outputs": [],
   "source": [
    "data.rename(columns={'Message 1': 'M1',\n",
    "                   'Message 2': 'M2',\n",
    "                   'M1 Send Time': 'SendTime', \n",
    "                   'M2 Receive Time': 'RecTime',\n",
    "                   'Number of Words (M1)': 'WC-M1',\n",
    "                   'Number of Punctuation (M1)': 'PC-M1',\n",
    "                   'Presence of Emojis (M1)':'EC-M1',\n",
    "                   'Presence of Images (M1)':'IC-M1',\n",
    "                   'Presence of Videos (M1)':'VC-M1',\n",
    "                   'Presence of Links (M1)':'LC-M1',\n",
    "                   'Number of Words (M2)':'WC-M2',\n",
    "                   'Number of Punctuation (M2)':'PC-M2',\n",
    "                   'Presence of Emojis (M2)':'EC-M2',\n",
    "                   'Presence of Images (M2)':'IC-M2',\n",
    "                   'Presence of Videos (M2)':'VC-M2',\n",
    "                   'Presence of Links (M2)':'LC-M2'\n",
    "                  }, inplace=True)\n"
   ]
  },
  {
   "cell_type": "code",
   "execution_count": 7,
   "id": "cb2b5c2c",
   "metadata": {},
   "outputs": [
    {
     "data": {
      "text/html": [
       "<div>\n",
       "<style scoped>\n",
       "    .dataframe tbody tr th:only-of-type {\n",
       "        vertical-align: middle;\n",
       "    }\n",
       "\n",
       "    .dataframe tbody tr th {\n",
       "        vertical-align: top;\n",
       "    }\n",
       "\n",
       "    .dataframe thead th {\n",
       "        text-align: right;\n",
       "    }\n",
       "</style>\n",
       "<table border=\"1\" class=\"dataframe\">\n",
       "  <thead>\n",
       "    <tr style=\"text-align: right;\">\n",
       "      <th></th>\n",
       "      <th>M1</th>\n",
       "      <th>M2</th>\n",
       "      <th>Response</th>\n",
       "      <th>SendTime</th>\n",
       "      <th>RecTime</th>\n",
       "      <th>WC-M1</th>\n",
       "      <th>PC-M1</th>\n",
       "      <th>EC-M1</th>\n",
       "      <th>IC-M1</th>\n",
       "      <th>VC-M1</th>\n",
       "      <th>LC-M1</th>\n",
       "      <th>WC-M2</th>\n",
       "      <th>PC-M2</th>\n",
       "      <th>EC-M2</th>\n",
       "      <th>IC-M2</th>\n",
       "      <th>VC-M2</th>\n",
       "      <th>LC-M2</th>\n",
       "    </tr>\n",
       "  </thead>\n",
       "  <tbody>\n",
       "    <tr>\n",
       "      <th>0</th>\n",
       "      <td>I'm going to learn how to bake a chocolate cak...</td>\n",
       "      <td>Baking a chocolate cake is delicious! What's y...</td>\n",
       "      <td>No</td>\n",
       "      <td>11/8/2023 21:45</td>\n",
       "      <td>11/8/2023 21:50</td>\n",
       "      <td>8</td>\n",
       "      <td>3</td>\n",
       "      <td>Yes</td>\n",
       "      <td>No</td>\n",
       "      <td>No</td>\n",
       "      <td>No</td>\n",
       "      <td>9</td>\n",
       "      <td>3</td>\n",
       "      <td>Yes</td>\n",
       "      <td>No</td>\n",
       "      <td>No</td>\n",
       "      <td>No</td>\n",
       "    </tr>\n",
       "    <tr>\n",
       "      <th>1</th>\n",
       "      <td>I'm planning a weekend getaway by the lake. 🌅</td>\n",
       "      <td>Weekend getaways by the lake are so relaxing! ...</td>\n",
       "      <td>No</td>\n",
       "      <td>11/8/2023 21:50</td>\n",
       "      <td>11/8/2023 21:55</td>\n",
       "      <td>8</td>\n",
       "      <td>3</td>\n",
       "      <td>Yes</td>\n",
       "      <td>No</td>\n",
       "      <td>No</td>\n",
       "      <td>No</td>\n",
       "      <td>8</td>\n",
       "      <td>3</td>\n",
       "      <td>Yes</td>\n",
       "      <td>No</td>\n",
       "      <td>No</td>\n",
       "      <td>No</td>\n",
       "    </tr>\n",
       "    <tr>\n",
       "      <th>2</th>\n",
       "      <td>I'm going to a rock music concert. 🎸</td>\n",
       "      <td>Rock concerts are energetic! Which rock band a...</td>\n",
       "      <td>No</td>\n",
       "      <td>11/8/2023 21:55</td>\n",
       "      <td>11/8/2023 22:00</td>\n",
       "      <td>6</td>\n",
       "      <td>3</td>\n",
       "      <td>Yes</td>\n",
       "      <td>No</td>\n",
       "      <td>No</td>\n",
       "      <td>No</td>\n",
       "      <td>9</td>\n",
       "      <td>3</td>\n",
       "      <td>Yes</td>\n",
       "      <td>No</td>\n",
       "      <td>No</td>\n",
       "      <td>No</td>\n",
       "    </tr>\n",
       "    <tr>\n",
       "      <th>3</th>\n",
       "      <td>I'm planning a day at the beach with my family...</td>\n",
       "      <td>Beach days with family are fun! What beach act...</td>\n",
       "      <td>No</td>\n",
       "      <td>11/8/2023 22:00</td>\n",
       "      <td>11/8/2023 22:05</td>\n",
       "      <td>8</td>\n",
       "      <td>3</td>\n",
       "      <td>Yes</td>\n",
       "      <td>No</td>\n",
       "      <td>No</td>\n",
       "      <td>No</td>\n",
       "      <td>8</td>\n",
       "      <td>3</td>\n",
       "      <td>Yes</td>\n",
       "      <td>No</td>\n",
       "      <td>No</td>\n",
       "      <td>No</td>\n",
       "    </tr>\n",
       "    <tr>\n",
       "      <th>4</th>\n",
       "      <td>I'm going to start a new workout routine. 💪</td>\n",
       "      <td>Starting a new workout routine is great for yo...</td>\n",
       "      <td>No</td>\n",
       "      <td>11/8/2023 22:05</td>\n",
       "      <td>11/8/2023 22:10</td>\n",
       "      <td>7</td>\n",
       "      <td>3</td>\n",
       "      <td>Yes</td>\n",
       "      <td>No</td>\n",
       "      <td>No</td>\n",
       "      <td>No</td>\n",
       "      <td>9</td>\n",
       "      <td>3</td>\n",
       "      <td>Yes</td>\n",
       "      <td>No</td>\n",
       "      <td>No</td>\n",
       "      <td>No</td>\n",
       "    </tr>\n",
       "  </tbody>\n",
       "</table>\n",
       "</div>"
      ],
      "text/plain": [
       "                                                  M1  \\\n",
       "0  I'm going to learn how to bake a chocolate cak...   \n",
       "1      I'm planning a weekend getaway by the lake. 🌅   \n",
       "2               I'm going to a rock music concert. 🎸   \n",
       "3  I'm planning a day at the beach with my family...   \n",
       "4        I'm going to start a new workout routine. 💪   \n",
       "\n",
       "                                                  M2 Response  \\\n",
       "0  Baking a chocolate cake is delicious! What's y...       No   \n",
       "1  Weekend getaways by the lake are so relaxing! ...       No   \n",
       "2  Rock concerts are energetic! Which rock band a...       No   \n",
       "3  Beach days with family are fun! What beach act...       No   \n",
       "4  Starting a new workout routine is great for yo...       No   \n",
       "\n",
       "          SendTime          RecTime  WC-M1  PC-M1 EC-M1 IC-M1 VC-M1 LC-M1  \\\n",
       "0  11/8/2023 21:45  11/8/2023 21:50      8      3   Yes    No    No    No   \n",
       "1  11/8/2023 21:50  11/8/2023 21:55      8      3   Yes    No    No    No   \n",
       "2  11/8/2023 21:55  11/8/2023 22:00      6      3   Yes    No    No    No   \n",
       "3  11/8/2023 22:00  11/8/2023 22:05      8      3   Yes    No    No    No   \n",
       "4  11/8/2023 22:05  11/8/2023 22:10      7      3   Yes    No    No    No   \n",
       "\n",
       "   WC-M2  PC-M2 EC-M2 IC-M2 VC-M2 LC-M2  \n",
       "0      9      3   Yes    No    No    No  \n",
       "1      8      3   Yes    No    No    No  \n",
       "2      9      3   Yes    No    No    No  \n",
       "3      8      3   Yes    No    No    No  \n",
       "4      9      3   Yes    No    No    No  "
      ]
     },
     "execution_count": 7,
     "metadata": {},
     "output_type": "execute_result"
    }
   ],
   "source": [
    "data.head()"
   ]
  },
  {
   "cell_type": "code",
   "execution_count": 8,
   "id": "e33b213e",
   "metadata": {},
   "outputs": [
    {
     "data": {
      "text/plain": [
       "Index(['M1', 'M2', 'Response', 'SendTime', 'RecTime', 'WC-M1', 'PC-M1',\n",
       "       'EC-M1', 'IC-M1', 'VC-M1', 'LC-M1', 'WC-M2', 'PC-M2', 'EC-M2', 'IC-M2',\n",
       "       'VC-M2', 'LC-M2'],\n",
       "      dtype='object')"
      ]
     },
     "execution_count": 8,
     "metadata": {},
     "output_type": "execute_result"
    }
   ],
   "source": [
    "data.columns"
   ]
  },
  {
   "cell_type": "code",
   "execution_count": 9,
   "id": "058efe98",
   "metadata": {},
   "outputs": [],
   "source": [
    "df = data.drop(['M1','M2'], axis =1)"
   ]
  },
  {
   "cell_type": "code",
   "execution_count": 10,
   "id": "9f2e9251",
   "metadata": {},
   "outputs": [],
   "source": [
    "df['EC-M1'] = df['EC-M1'].replace({'Yes':1,'No':0})\n",
    "df['IC-M1'] = df['EC-M1'].replace({'Yes':1,'No':0})\n",
    "df['VC-M1'] = df['EC-M1'].replace({'Yes':1,'No':0})\n",
    "df['LC-M1'] = df['EC-M1'].replace({'Yes':1,'No':0})\n",
    "df['EC-M2'] = df['EC-M1'].replace({'Yes':1,'No':0})\n",
    "df['IC-M2'] = df['EC-M1'].replace({'Yes':1,'No':0})\n",
    "df['VC-M2'] = df['EC-M1'].replace({'Yes':1,'No':0})\n",
    "df['LC-M2'] = df['EC-M1'].replace({'Yes':1,'No':0})\n",
    "df['Response'] = df['Response'].replace({'Yes':1,'No':0})"
   ]
  },
  {
   "cell_type": "code",
   "execution_count": 11,
   "id": "fccb0de1",
   "metadata": {},
   "outputs": [],
   "source": [
    "df1= df.copy()"
   ]
  },
  {
   "cell_type": "code",
   "execution_count": 12,
   "id": "564a3b7e",
   "metadata": {},
   "outputs": [],
   "source": [
    "df1['SendTime'] = pd.to_datetime(df1['SendTime'])\n",
    "df1['RecTime'] = pd.to_datetime(df1['RecTime'])\n",
    "\n",
    "# Calculate the time difference in minutes\n",
    "df1['RespTime'] = (df1['RecTime'] - df1['SendTime']).dt.total_seconds() / 60\n"
   ]
  },
  {
   "cell_type": "code",
   "execution_count": 13,
   "id": "bfcfa110",
   "metadata": {},
   "outputs": [],
   "source": [
    "df1.drop(['SendTime','RecTime'],axis=1,inplace=True)"
   ]
  },
  {
   "cell_type": "code",
   "execution_count": 14,
   "id": "5a94689e",
   "metadata": {},
   "outputs": [
    {
     "data": {
      "text/html": [
       "<div>\n",
       "<style scoped>\n",
       "    .dataframe tbody tr th:only-of-type {\n",
       "        vertical-align: middle;\n",
       "    }\n",
       "\n",
       "    .dataframe tbody tr th {\n",
       "        vertical-align: top;\n",
       "    }\n",
       "\n",
       "    .dataframe thead th {\n",
       "        text-align: right;\n",
       "    }\n",
       "</style>\n",
       "<table border=\"1\" class=\"dataframe\">\n",
       "  <thead>\n",
       "    <tr style=\"text-align: right;\">\n",
       "      <th></th>\n",
       "      <th>Response</th>\n",
       "      <th>WC-M1</th>\n",
       "      <th>PC-M1</th>\n",
       "      <th>EC-M1</th>\n",
       "      <th>IC-M1</th>\n",
       "      <th>VC-M1</th>\n",
       "      <th>LC-M1</th>\n",
       "      <th>WC-M2</th>\n",
       "      <th>PC-M2</th>\n",
       "      <th>EC-M2</th>\n",
       "      <th>IC-M2</th>\n",
       "      <th>VC-M2</th>\n",
       "      <th>LC-M2</th>\n",
       "      <th>RespTime</th>\n",
       "    </tr>\n",
       "  </thead>\n",
       "  <tbody>\n",
       "    <tr>\n",
       "      <th>0</th>\n",
       "      <td>0</td>\n",
       "      <td>8</td>\n",
       "      <td>3</td>\n",
       "      <td>1</td>\n",
       "      <td>1</td>\n",
       "      <td>1</td>\n",
       "      <td>1</td>\n",
       "      <td>9</td>\n",
       "      <td>3</td>\n",
       "      <td>1</td>\n",
       "      <td>1</td>\n",
       "      <td>1</td>\n",
       "      <td>1</td>\n",
       "      <td>5.0</td>\n",
       "    </tr>\n",
       "    <tr>\n",
       "      <th>1</th>\n",
       "      <td>0</td>\n",
       "      <td>8</td>\n",
       "      <td>3</td>\n",
       "      <td>1</td>\n",
       "      <td>1</td>\n",
       "      <td>1</td>\n",
       "      <td>1</td>\n",
       "      <td>8</td>\n",
       "      <td>3</td>\n",
       "      <td>1</td>\n",
       "      <td>1</td>\n",
       "      <td>1</td>\n",
       "      <td>1</td>\n",
       "      <td>5.0</td>\n",
       "    </tr>\n",
       "    <tr>\n",
       "      <th>2</th>\n",
       "      <td>0</td>\n",
       "      <td>6</td>\n",
       "      <td>3</td>\n",
       "      <td>1</td>\n",
       "      <td>1</td>\n",
       "      <td>1</td>\n",
       "      <td>1</td>\n",
       "      <td>9</td>\n",
       "      <td>3</td>\n",
       "      <td>1</td>\n",
       "      <td>1</td>\n",
       "      <td>1</td>\n",
       "      <td>1</td>\n",
       "      <td>5.0</td>\n",
       "    </tr>\n",
       "    <tr>\n",
       "      <th>3</th>\n",
       "      <td>0</td>\n",
       "      <td>8</td>\n",
       "      <td>3</td>\n",
       "      <td>1</td>\n",
       "      <td>1</td>\n",
       "      <td>1</td>\n",
       "      <td>1</td>\n",
       "      <td>8</td>\n",
       "      <td>3</td>\n",
       "      <td>1</td>\n",
       "      <td>1</td>\n",
       "      <td>1</td>\n",
       "      <td>1</td>\n",
       "      <td>5.0</td>\n",
       "    </tr>\n",
       "    <tr>\n",
       "      <th>4</th>\n",
       "      <td>0</td>\n",
       "      <td>7</td>\n",
       "      <td>3</td>\n",
       "      <td>1</td>\n",
       "      <td>1</td>\n",
       "      <td>1</td>\n",
       "      <td>1</td>\n",
       "      <td>9</td>\n",
       "      <td>3</td>\n",
       "      <td>1</td>\n",
       "      <td>1</td>\n",
       "      <td>1</td>\n",
       "      <td>1</td>\n",
       "      <td>5.0</td>\n",
       "    </tr>\n",
       "  </tbody>\n",
       "</table>\n",
       "</div>"
      ],
      "text/plain": [
       "   Response  WC-M1  PC-M1  EC-M1  IC-M1  VC-M1  LC-M1  WC-M2  PC-M2  EC-M2  \\\n",
       "0         0      8      3      1      1      1      1      9      3      1   \n",
       "1         0      8      3      1      1      1      1      8      3      1   \n",
       "2         0      6      3      1      1      1      1      9      3      1   \n",
       "3         0      8      3      1      1      1      1      8      3      1   \n",
       "4         0      7      3      1      1      1      1      9      3      1   \n",
       "\n",
       "   IC-M2  VC-M2  LC-M2  RespTime  \n",
       "0      1      1      1       5.0  \n",
       "1      1      1      1       5.0  \n",
       "2      1      1      1       5.0  \n",
       "3      1      1      1       5.0  \n",
       "4      1      1      1       5.0  "
      ]
     },
     "execution_count": 14,
     "metadata": {},
     "output_type": "execute_result"
    }
   ],
   "source": [
    "df1.head()"
   ]
  },
  {
   "cell_type": "code",
   "execution_count": 15,
   "id": "d938b75c",
   "metadata": {},
   "outputs": [],
   "source": [
    "# val = np.abs(np.random.rand(1))\n",
    "df1['RT'] = df1.RespTime * (np.random.rand(219))"
   ]
  },
  {
   "cell_type": "code",
   "execution_count": 16,
   "id": "4ecd49c1",
   "metadata": {},
   "outputs": [
    {
     "data": {
      "text/plain": [
       "0      2.435028\n",
       "1      3.902938\n",
       "2      2.816835\n",
       "3      2.609354\n",
       "4      4.529637\n",
       "         ...   \n",
       "214    4.122171\n",
       "215    1.800335\n",
       "216    3.759831\n",
       "217    1.426997\n",
       "218    0.269304\n",
       "Name: RT, Length: 219, dtype: float64"
      ]
     },
     "execution_count": 16,
     "metadata": {},
     "output_type": "execute_result"
    }
   ],
   "source": [
    "df1.RT"
   ]
  },
  {
   "cell_type": "code",
   "execution_count": 17,
   "id": "e740ef8b",
   "metadata": {},
   "outputs": [
    {
     "data": {
      "text/plain": [
       "2.435028    1\n",
       "1.922244    1\n",
       "4.037720    1\n",
       "0.812292    1\n",
       "0.392186    1\n",
       "           ..\n",
       "1.993366    1\n",
       "3.279761    1\n",
       "4.773051    1\n",
       "4.098079    1\n",
       "0.269304    1\n",
       "Name: RT, Length: 219, dtype: int64"
      ]
     },
     "execution_count": 17,
     "metadata": {},
     "output_type": "execute_result"
    }
   ],
   "source": [
    "df1.RT.value_counts()"
   ]
  },
  {
   "cell_type": "code",
   "execution_count": 18,
   "id": "70d3a182",
   "metadata": {},
   "outputs": [],
   "source": [
    "X = df1.drop(['Response'],axis=1)\n",
    "y = df1['Response']"
   ]
  },
  {
   "cell_type": "code",
   "execution_count": 19,
   "id": "e67ee55a",
   "metadata": {},
   "outputs": [],
   "source": [
    "x_train, x_test, y_train, y_test = train_test_split(X,y, test_size=0.2, random_state=42)"
   ]
  },
  {
   "cell_type": "code",
   "execution_count": 20,
   "id": "be6f4e3c",
   "metadata": {},
   "outputs": [],
   "source": [
    "\n",
    "x_train = np.array(x_train)\n",
    "x_test = np.array(x_test)\n",
    "y_train = np.array(y_train)\n",
    "y_test = np.array(y_test)\n"
   ]
  },
  {
   "cell_type": "code",
   "execution_count": 21,
   "id": "19924443",
   "metadata": {},
   "outputs": [],
   "source": [
    "def sigmoid(z):\n",
    "    z = np.clip(z, -500, 500)\n",
    "    g = 1/(1 + np.exp(-z))\n",
    "    return g"
   ]
  },
  {
   "cell_type": "code",
   "execution_count": 28,
   "id": "212eaf4e",
   "metadata": {},
   "outputs": [],
   "source": [
    "# Gradient Descent\n",
    "def gradientDescent(X, y, w, b, lr, itr):\n",
    "    J_history = []\n",
    "    \n",
    "    for i in range(itr):\n",
    "        z = np.dot(X, w) + b\n",
    "        y_hat = sigmoid(z)\n",
    "        error = y_hat - y\n",
    "        dw = np.dot(X.T, error) / len(X)\n",
    "        db = np.sum(error) / len(X)\n",
    "        \n",
    "        w -= lr * dw\n",
    "        b -= lr * db\n",
    "        \n",
    "        cost = -1 / len(X) * (np.dot(y.T, np.log(y_hat)) + np.dot((1 - y).T, np.log(1 - y_hat)))\n",
    "        J_history.append(cost)\n",
    "        \n",
    "#         if i % (itr // 10) == 0:\n",
    "#             print(f\"Iter:{i:4d}, Cost:{cost:.5f}, w is: {', '.join(map(lambda x: f'{x:.2f}', w))}, b is: {b:.2f}\")\n",
    "\n",
    "\n",
    "    return w, b, J_history"
   ]
  },
  {
   "cell_type": "markdown",
   "id": "20ca4e02",
   "metadata": {},
   "source": [
    "# Evalvating Training Data"
   ]
  },
  {
   "cell_type": "code",
   "execution_count": 33,
   "id": "b66efb85",
   "metadata": {},
   "outputs": [
    {
     "data": {
      "image/png": "[encoded data removed]",
      "text/plain": [
       "<Figure size 1000x600 with 1 Axes>"
      ]
     },
     "metadata": {},
     "output_type": "display_data"
    }
   ],
   "source": [
    "np.random.seed(0)\n",
    "w = np.random.randn(x_train.shape[1])\n",
    "b = np.random.randn()\n",
    "lr = [0.001, 0.1, 0.005, 0.000008, 0.0009]\n",
    "\n",
    "iterations = 100000\n",
    "\n",
    "plt.figure(figsize=(10, 6))\n",
    "\n",
    "for i, l in enumerate(lr):\n",
    "    w_final, b_final, J_hist = gradientDescent(x_train, y_train, w, b, l, iterations)\n",
    "    plt.plot(range(iterations), J_hist, label=f'lr = {l}', color=f'C{i}')\n",
    "\n",
    "plt.xlabel('Iteration')\n",
    "plt.ylabel('Cost')\n",
    "plt.legend()\n",
    "plt.title('Cost per Iteration (Training Data)')\n",
    "\n",
    "plt.show()"
   ]
  },
  {
   "cell_type": "code",
   "execution_count": 34,
   "id": "86e522f3",
   "metadata": {},
   "outputs": [
    {
     "data": {
      "text/html": [
       "<div>\n",
       "<style scoped>\n",
       "    .dataframe tbody tr th:only-of-type {\n",
       "        vertical-align: middle;\n",
       "    }\n",
       "\n",
       "    .dataframe tbody tr th {\n",
       "        vertical-align: top;\n",
       "    }\n",
       "\n",
       "    .dataframe thead th {\n",
       "        text-align: right;\n",
       "    }\n",
       "</style>\n",
       "<table border=\"1\" class=\"dataframe\">\n",
       "  <thead>\n",
       "    <tr style=\"text-align: right;\">\n",
       "      <th></th>\n",
       "      <th>Actual Price</th>\n",
       "      <th>Predicted Price</th>\n",
       "    </tr>\n",
       "  </thead>\n",
       "  <tbody>\n",
       "    <tr>\n",
       "      <th>0</th>\n",
       "      <td>0</td>\n",
       "      <td>0</td>\n",
       "    </tr>\n",
       "    <tr>\n",
       "      <th>1</th>\n",
       "      <td>1</td>\n",
       "      <td>1</td>\n",
       "    </tr>\n",
       "    <tr>\n",
       "      <th>2</th>\n",
       "      <td>0</td>\n",
       "      <td>0</td>\n",
       "    </tr>\n",
       "    <tr>\n",
       "      <th>3</th>\n",
       "      <td>0</td>\n",
       "      <td>0</td>\n",
       "    </tr>\n",
       "    <tr>\n",
       "      <th>4</th>\n",
       "      <td>0</td>\n",
       "      <td>0</td>\n",
       "    </tr>\n",
       "  </tbody>\n",
       "</table>\n",
       "</div>"
      ],
      "text/plain": [
       "   Actual Price  Predicted Price\n",
       "0             0                0\n",
       "1             1                1\n",
       "2             0                0\n",
       "3             0                0\n",
       "4             0                0"
      ]
     },
     "execution_count": 34,
     "metadata": {},
     "output_type": "execute_result"
    }
   ],
   "source": [
    "y_train_predicted = np.dot(x_train, w_final) + b_final\n",
    "y_predTr = [1 if x >= 0.5 else 0 for x in y_train_predicted]\n",
    "df1 = pd.DataFrame({'Actual Price': y_train, 'Predicted Price':y_predTr})\n",
    "df1.head()"
   ]
  },
  {
   "cell_type": "code",
   "execution_count": 35,
   "id": "16a540a5",
   "metadata": {},
   "outputs": [
    {
     "name": "stdout",
     "output_type": "stream",
     "text": [
      "R-squared (Training Data): 0.930\n"
     ]
    }
   ],
   "source": [
    "mean_actual = np.mean(y_train)\n",
    "sst = np.sum((y_train - mean_actual) ** 2)\n",
    "# Calculate the sum of squared residuals (SSR)\n",
    "ssr = np.sum((y_predTr - y_train) ** 2)\n",
    "# Calculate R-squared\n",
    "r_squared = 1 - (ssr / sst)\n",
    "print(f\"R-squared (Training Data): {r_squared:.3f}\")"
   ]
  },
  {
   "cell_type": "markdown",
   "id": "2882204e",
   "metadata": {},
   "source": [
    "# Evalvating Testing Data"
   ]
  },
  {
   "cell_type": "code",
   "execution_count": 37,
   "id": "fe6752e7",
   "metadata": {},
   "outputs": [
    {
     "data": {
      "image/png": "[encoded data removed]",
      "text/plain": [
       "<Figure size 1000x600 with 1 Axes>"
      ]
     },
     "metadata": {},
     "output_type": "display_data"
    }
   ],
   "source": [
    "np.random.seed(0)\n",
    "w = np.random.randn(x_train.shape[1])\n",
    "b = np.random.randn()\n",
    "lr = [0.001, 0.1, 0.005, 0.000008, 0.0009]\n",
    "\n",
    "iterations = 100000\n",
    "\n",
    "plt.figure(figsize=(10, 6))\n",
    "\n",
    "for i, l in enumerate(lr):\n",
    "    w_final, b_final, J_hist = gradientDescent(x_test, y_test, w, b, l, iterations)\n",
    "    plt.plot(range(iterations), J_hist, label=f'lr = {l}', color=f'C{i}')\n",
    "\n",
    "plt.xlabel('Iteration')\n",
    "plt.ylabel('Cost')\n",
    "plt.legend()\n",
    "plt.title('Cost per Iteration (Training Data)')\n",
    "\n",
    "plt.show()"
   ]
  },
  {
   "cell_type": "code",
   "execution_count": 40,
   "id": "e6399972",
   "metadata": {},
   "outputs": [
    {
     "data": {
      "text/html": [
       "<div>\n",
       "<style scoped>\n",
       "    .dataframe tbody tr th:only-of-type {\n",
       "        vertical-align: middle;\n",
       "    }\n",
       "\n",
       "    .dataframe tbody tr th {\n",
       "        vertical-align: top;\n",
       "    }\n",
       "\n",
       "    .dataframe thead th {\n",
       "        text-align: right;\n",
       "    }\n",
       "</style>\n",
       "<table border=\"1\" class=\"dataframe\">\n",
       "  <thead>\n",
       "    <tr style=\"text-align: right;\">\n",
       "      <th></th>\n",
       "      <th>Actual Price</th>\n",
       "      <th>Predicted Price</th>\n",
       "    </tr>\n",
       "  </thead>\n",
       "  <tbody>\n",
       "    <tr>\n",
       "      <th>0</th>\n",
       "      <td>1</td>\n",
       "      <td>1</td>\n",
       "    </tr>\n",
       "    <tr>\n",
       "      <th>1</th>\n",
       "      <td>0</td>\n",
       "      <td>0</td>\n",
       "    </tr>\n",
       "    <tr>\n",
       "      <th>2</th>\n",
       "      <td>1</td>\n",
       "      <td>1</td>\n",
       "    </tr>\n",
       "    <tr>\n",
       "      <th>3</th>\n",
       "      <td>1</td>\n",
       "      <td>1</td>\n",
       "    </tr>\n",
       "    <tr>\n",
       "      <th>4</th>\n",
       "      <td>0</td>\n",
       "      <td>0</td>\n",
       "    </tr>\n",
       "  </tbody>\n",
       "</table>\n",
       "</div>"
      ],
      "text/plain": [
       "   Actual Price  Predicted Price\n",
       "0             1                1\n",
       "1             0                0\n",
       "2             1                1\n",
       "3             1                1\n",
       "4             0                0"
      ]
     },
     "execution_count": 40,
     "metadata": {},
     "output_type": "execute_result"
    }
   ],
   "source": [
    "y_test_predicted = np.dot(x_test, w_final) + b_final\n",
    "y_predTest = [1 if x >= 0.5 else 0 for x in y_test_predicted]\n",
    "df1 = pd.DataFrame({'Actual Price': y_test, 'Predicted Price':y_predTest})\n",
    "df1.head()"
   ]
  },
  {
   "cell_type": "code",
   "execution_count": 41,
   "id": "2ac41445",
   "metadata": {},
   "outputs": [
    {
     "name": "stdout",
     "output_type": "stream",
     "text": [
      "R-squared (Training Data): 1.000\n"
     ]
    }
   ],
   "source": [
    "mean_actual = np.mean(y_test)\n",
    "sst = np.sum((y_test - mean_actual) ** 2)\n",
    "# Calculate the sum of squared residuals (SSR)\n",
    "ssr = np.sum((y_predTest - y_test) ** 2)\n",
    "# Calculate R-squared\n",
    "r_squared = 1 - (ssr / sst)\n",
    "print(f\"R-squared (Training Data): {r_squared:.3f}\")"
   ]
  }
 ],
 "metadata": {
  "kernelspec": {
   "display_name": "Python 3 (ipykernel)",
   "language": "python",
   "name": "python3"
  },
  "language_info": {
   "codemirror_mode": {
    "name": "ipython",
    "version": 3
   },
   "file_extension": ".py",
   "mimetype": "text/x-python",
   "name": "python",
   "nbconvert_exporter": "python",
   "pygments_lexer": "ipython3",
   "version": "3.11.4"
  }
 },
 "nbformat": 4,
 "nbformat_minor": 5
}
